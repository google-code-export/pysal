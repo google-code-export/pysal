{
 "metadata": {
  "name": "ml_optimization"
 },
 "nbformat": 3,
 "nbformat_minor": 0,
 "worksheets": [
  {
   "cells": [
    {
     "cell_type": "markdown",
     "metadata": {},
     "source": [
      "# Using scipy optimizers to implement ml estimation of spatial process models"
     ]
    },
    {
     "cell_type": "markdown",
     "metadata": {},
     "source": [
      "Starting with simple binomial to get started"
     ]
    },
    {
     "cell_type": "code",
     "collapsed": false,
     "input": [
      "import numpy as np\n",
      "from scipy import optimize"
     ],
     "language": "python",
     "metadata": {},
     "outputs": [],
     "prompt_number": 1
    },
    {
     "cell_type": "code",
     "collapsed": false,
     "input": [
      "def like_binomial(p,x,n):\n",
      "    return p**x * (1-p)**(n-x)"
     ],
     "language": "python",
     "metadata": {},
     "outputs": [],
     "prompt_number": 2
    },
    {
     "cell_type": "code",
     "collapsed": false,
     "input": [
      "like_binomial(.5,10,2)"
     ],
     "language": "python",
     "metadata": {},
     "outputs": [
      {
       "output_type": "pyout",
       "prompt_number": 3,
       "text": [
        "0.25"
       ]
      }
     ],
     "prompt_number": 3
    },
    {
     "cell_type": "code",
     "collapsed": false,
     "input": [
      "ps = np.arange(0.0,1.0,.05)"
     ],
     "language": "python",
     "metadata": {},
     "outputs": [],
     "prompt_number": 4
    },
    {
     "cell_type": "code",
     "collapsed": false,
     "input": [
      "ps"
     ],
     "language": "python",
     "metadata": {},
     "outputs": [
      {
       "output_type": "pyout",
       "prompt_number": 5,
       "text": [
        "array([ 0.  ,  0.05,  0.1 ,  0.15,  0.2 ,  0.25,  0.3 ,  0.35,  0.4 ,\n",
        "        0.45,  0.5 ,  0.55,  0.6 ,  0.65,  0.7 ,  0.75,  0.8 ,  0.85,\n",
        "        0.9 ,  0.95])"
       ]
      }
     ],
     "prompt_number": 5
    },
    {
     "cell_type": "code",
     "collapsed": false,
     "input": [
      "lp = [ like_binomial(p, 2, 10) for p in ps ]"
     ],
     "language": "python",
     "metadata": {},
     "outputs": [],
     "prompt_number": 6
    },
    {
     "cell_type": "code",
     "collapsed": false,
     "input": [
      "plot(ps,lp)"
     ],
     "language": "python",
     "metadata": {},
     "outputs": [
      {
       "output_type": "pyout",
       "prompt_number": 7,
       "text": [
        "[<matplotlib.lines.Line2D at 0x57520b0>]"
       ]
      },
      {
       "output_type": "display_data",
       "png": "[encoded data removed]"
      }
     ],
     "prompt_number": 7
    },
    {
     "cell_type": "markdown",
     "metadata": {},
     "source": [
      "Set up negative of the likelihood for optimize.fmin"
     ]
    },
    {
     "cell_type": "code",
     "collapsed": false,
     "input": [
      "def lik1(p):\n",
      "    return -1 * p**2 * (1-p)**(10-2)"
     ],
     "language": "python",
     "metadata": {},
     "outputs": [],
     "prompt_number": 8
    },
    {
     "cell_type": "code",
     "collapsed": false,
     "input": [
      "xopt = optimize.fmin(lik1, 0)"
     ],
     "language": "python",
     "metadata": {},
     "outputs": [
      {
       "output_type": "stream",
       "stream": "stdout",
       "text": [
        "Optimization terminated successfully.\n",
        "         Current function value: -0.006711\n",
        "         Iterations: 20\n",
        "         Function evaluations: 40\n"
       ]
      }
     ],
     "prompt_number": 9
    },
    {
     "cell_type": "code",
     "collapsed": false,
     "input": [
      "xopt"
     ],
     "language": "python",
     "metadata": {},
     "outputs": [
      {
       "output_type": "pyout",
       "prompt_number": 10,
       "text": [
        "array([ 0.2])"
       ]
      }
     ],
     "prompt_number": 10
    },
    {
     "cell_type": "heading",
     "level": 2,
     "metadata": {},
     "source": [
      "Now on spatial data from synthetic error model"
     ]
    },
    {
     "cell_type": "code",
     "collapsed": false,
     "input": [
      "\n",
      "import pysal as ps\n",
      "nsqrt = 5\n",
      "n = nsqrt*nsqrt\n",
      "w = ps.lat2W(nsqrt,nsqrt)\n",
      "w.transform = 'r'\n"
     ],
     "language": "python",
     "metadata": {},
     "outputs": [],
     "prompt_number": 11
    },
    {
     "cell_type": "code",
     "collapsed": false,
     "input": [
      "lam = 0.7\n",
      "b = np.array([1.0, 3.0])\n",
      "b.shape = (2,1)\n",
      "X = np.arange(0,n)\n",
      "X.shape = (n,1)\n",
      "X = np.hstack((np.ones((n,1)), X))\n",
      "# error model\n",
      "A = np.eye(n) - lam * w.full()[0]\n",
      "AI = np.linalg.inv(A)\n",
      "e = np.random.random((n,1))\n",
      "Xb = np.dot(X,b)\n",
      "y = np.dot(AI, e) + Xb"
     ],
     "language": "python",
     "metadata": {},
     "outputs": [],
     "prompt_number": 12
    },
    {
     "cell_type": "code",
     "collapsed": false,
     "input": [
      "A[0:4,0:4]"
     ],
     "language": "python",
     "metadata": {},
     "outputs": [
      {
       "output_type": "pyout",
       "prompt_number": 13,
       "text": [
        "array([[ 1.        , -0.35      ,  0.        ,  0.        ],\n",
        "       [-0.23333333,  1.        , -0.23333333,  0.        ],\n",
        "       [ 0.        , -0.23333333,  1.        , -0.23333333],\n",
        "       [ 0.        ,  0.        , -0.23333333,  1.        ]])"
       ]
      }
     ],
     "prompt_number": 13
    },
    {
     "cell_type": "code",
     "collapsed": false,
     "input": [
      "w.full()[0][0:4,0:4]"
     ],
     "language": "python",
     "metadata": {},
     "outputs": [
      {
       "output_type": "pyout",
       "prompt_number": 14,
       "text": [
        "array([[ 0.        ,  0.5       ,  0.        ,  0.        ],\n",
        "       [ 0.33333333,  0.        ,  0.33333333,  0.        ],\n",
        "       [ 0.        ,  0.33333333,  0.        ,  0.33333333],\n",
        "       [ 0.        ,  0.        ,  0.33333333,  0.        ]])"
       ]
      }
     ],
     "prompt_number": 14
    },
    {
     "cell_type": "code",
     "collapsed": false,
     "input": [
      "class Error_Model:\n",
      "    def __init__(self, w, y, X):\n",
      "        self.y = y\n",
      "        self.X = X\n",
      "        self.w = w\n",
      "        self.W = w.full()[0]\n",
      "        self.n = len(y)\n",
      "        self.yl = ps.lag_spatial(w,y)\n",
      "        self.Xl = ps.lag_spatial(w,X)\n",
      "        \n",
      "        \n",
      "        \n",
      "    def likelihood(self, lam):\n",
      "        # concentrated likelihood\n",
      "        ys = y - lam * self.yl\n",
      "        XS = self.X - lam * self.Xl\n",
      "        iXSXS = np.linalg.inv(np.dot(XS.T, XS))\n",
      "        b = np.dot(iXSXS, np.dot(XS.T, ys))\n",
      "        es = ys - np.dot(self.X, b) + np.dot(XS, b)\n",
      "        es2 = (es**2).sum()\n",
      "        sig2 = es2 / self.n\n",
      "        ln2pi = np.log(2.0*np.pi)\n",
      "        ldet = np.log(np.linalg.det(np.eye(w.n) - lam * self.W))\n",
      "        lik = ldet - self.n/2. * ln2pi - self.n/2. * np.log(sig2) - es2 / (2 *sig2)\n",
      "        lik *= -1.0\n",
      "        return lik\n",
      "    \n"
     ],
     "language": "python",
     "metadata": {},
     "outputs": [],
     "prompt_number": 15
    },
    {
     "cell_type": "code",
     "collapsed": false,
     "input": [
      "em = Error_Model(w, y, X)"
     ],
     "language": "python",
     "metadata": {},
     "outputs": [],
     "prompt_number": 16
    },
    {
     "cell_type": "code",
     "collapsed": false,
     "input": [
      "xopt = optimize.fmin(em.likelihood, 0)"
     ],
     "language": "python",
     "metadata": {},
     "outputs": [
      {
       "output_type": "stream",
       "stream": "stdout",
       "text": [
        "Optimization terminated successfully.\n",
        "         Current function value: 69.583610\n",
        "         Iterations: 23\n",
        "         Function evaluations: 46\n"
       ]
      }
     ],
     "prompt_number": 17
    },
    {
     "cell_type": "code",
     "collapsed": false,
     "input": [
      "xopt"
     ],
     "language": "python",
     "metadata": {},
     "outputs": [
      {
       "output_type": "pyout",
       "prompt_number": 18,
       "text": [
        "array([ 0.51575])"
       ]
      }
     ],
     "prompt_number": 18
    },
    {
     "cell_type": "code",
     "collapsed": false,
     "input": [
      "xopt1 = optimize.fmin(em.likelihood, 0, xtol=0.0000001)\n",
      "xopt1"
     ],
     "language": "python",
     "metadata": {},
     "outputs": [
      {
       "output_type": "stream",
       "stream": "stdout",
       "text": [
        "Optimization terminated successfully.\n",
        "         Current function value: 69.583610\n",
        "         Iterations: 33\n",
        "         Function evaluations: 66\n"
       ]
      },
      {
       "output_type": "pyout",
       "prompt_number": 19,
       "text": [
        "array([ 0.51575067])"
       ]
      }
     ],
     "prompt_number": 19
    },
    {
     "cell_type": "code",
     "collapsed": false,
     "input": [
      "lams = np.arange(-0.9, 1.0, 0.1)"
     ],
     "language": "python",
     "metadata": {},
     "outputs": [],
     "prompt_number": 20
    },
    {
     "cell_type": "code",
     "collapsed": false,
     "input": [
      "l = [ em.likelihood(lam) for lam in lams ]"
     ],
     "language": "python",
     "metadata": {},
     "outputs": [],
     "prompt_number": 21
    },
    {
     "cell_type": "code",
     "collapsed": false,
     "input": [
      "l"
     ],
     "language": "python",
     "metadata": {},
     "outputs": [
      {
       "output_type": "pyout",
       "prompt_number": 22,
       "text": [
        "[160.47396164952141,\n",
        " 157.10347257586466,\n",
        " 154.1141496675215,\n",
        " 151.23349628748099,\n",
        " 148.33692668460245,\n",
        " 145.33657638185866,\n",
        " 142.150363961349,\n",
        " 138.685079380785,\n",
        " 134.81935984488285,\n",
        " 130.37764251188315,\n",
        " 125.07994700132832,\n",
        " 118.42740676114238,\n",
        " 109.38820649591047,\n",
        " 95.303386576510405,\n",
        " 71.118638187363558,\n",
        " 89.466049320967031,\n",
        " 107.52814500234868,\n",
        " 118.99772067276015,\n",
        " 127.90969884238342]"
       ]
      }
     ],
     "prompt_number": 22
    },
    {
     "cell_type": "code",
     "collapsed": false,
     "input": [
      "plot(lams,l)\n",
      "ylabel(\"-LogLike\")\n",
      "xlabel(\"lambda\")\n"
     ],
     "language": "python",
     "metadata": {},
     "outputs": [
      {
       "output_type": "pyout",
       "prompt_number": 23,
       "text": [
        "<matplotlib.text.Text at 0x57b6570>"
       ]
      },
      {
       "output_type": "display_data",
       "png": "[encoded data removed]"
      }
     ],
     "prompt_number": 23
    },
    {
     "cell_type": "heading",
     "level": 2,
     "metadata": {},
     "source": [
      "Columbus Example for Error Model"
     ]
    },
    {
     "cell_type": "code",
     "collapsed": false,
     "input": [
      "db =  ps.open(ps.examples.get_path('columbus.dbf'),'r')\n",
      "y = np.array(db.by_col(\"CRIME\"))\n",
      "y.shape = (len(y),1)\n",
      "X = []\n",
      "X.append(db.by_col(\"INC\"))\n",
      "X.append(db.by_col(\"HOVAL\"))\n",
      "X = np.array(X).T\n",
      "#w = ps.open(ps.examples.get_path(\"columbus.gal\")).read()\n",
      "w = ps.rook_from_shapefile(ps.examples.get_path(\"columbus.shp\"))\n",
      "w.transform = 'r'\n",
      "X = np.hstack((np.ones((w.n,1)),X))\n",
      "em = Error_Model(w, y, X)\n"
     ],
     "language": "python",
     "metadata": {},
     "outputs": [],
     "prompt_number": 24
    },
    {
     "cell_type": "code",
     "collapsed": false,
     "input": [
      "xopt = optimize.fmin(em.likelihood, 0)\n",
      "xopt"
     ],
     "language": "python",
     "metadata": {},
     "outputs": [
      {
       "output_type": "stream",
       "stream": "stdout",
       "text": [
        "Optimization terminated successfully.\n",
        "         Current function value: 195.089311\n",
        "         Iterations: 23\n",
        "         Function evaluations: 46\n"
       ]
      },
      {
       "output_type": "pyout",
       "prompt_number": 25,
       "text": [
        "array([ 0.5075])"
       ]
      }
     ],
     "prompt_number": 25
    },
    {
     "cell_type": "code",
     "collapsed": false,
     "input": [
      "xopt1 = optimize.fmin(em.likelihood, 0, xtol=0.0000001)\n",
      "xopt1"
     ],
     "language": "python",
     "metadata": {},
     "outputs": [
      {
       "output_type": "stream",
       "stream": "stdout",
       "text": [
        "Optimization terminated successfully.\n",
        "         Current function value: 195.089310\n",
        "         Iterations: 33\n",
        "         Function evaluations: 66\n"
       ]
      },
      {
       "output_type": "pyout",
       "prompt_number": 26,
       "text": [
        "array([ 0.5075235])"
       ]
      }
     ],
     "prompt_number": 26
    },
    {
     "cell_type": "code",
     "collapsed": false,
     "input": [
      "lams = np.arange(-0.9, 1.0, 0.05)\n",
      "l = [ em.likelihood(lam) for lam in lams ]\n",
      "plot(lams,l)\n",
      "ylabel(\"-LogLike\")\n",
      "xlabel(\"lambda\")\n",
      "\n"
     ],
     "language": "python",
     "metadata": {},
     "outputs": [
      {
       "output_type": "pyout",
       "prompt_number": 27,
       "text": [
        "<matplotlib.text.Text at 0xab5ead0>"
       ]
      },
      {
       "output_type": "display_data",
       "png": "[encoded data removed]"
      }
     ],
     "prompt_number": 27
    },
    {
     "cell_type": "code",
     "collapsed": false,
     "input": [
      "import ml # use pysal.spreg.ml\n",
      "bmle = ml.ML_Error(y,w,X)\n",
      "lam = bmle[-1]"
     ],
     "language": "python",
     "metadata": {},
     "outputs": [],
     "prompt_number": 28
    },
    {
     "cell_type": "code",
     "collapsed": false,
     "input": [
      "lam"
     ],
     "language": "python",
     "metadata": {},
     "outputs": [
      {
       "output_type": "pyout",
       "prompt_number": 29,
       "text": [
        "0.54847399719357337"
       ]
      }
     ],
     "prompt_number": 29
    },
    {
     "cell_type": "code",
     "collapsed": false,
     "input": [
      "em.likelihood(lam)"
     ],
     "language": "python",
     "metadata": {},
     "outputs": [
      {
       "output_type": "pyout",
       "prompt_number": 30,
       "text": [
        "196.42896251662771"
       ]
      }
     ],
     "prompt_number": 30
    },
    {
     "cell_type": "code",
     "collapsed": false,
     "input": [
      "xopt1[0]"
     ],
     "language": "python",
     "metadata": {},
     "outputs": [
      {
       "output_type": "pyout",
       "prompt_number": 31,
       "text": [
        "0.50752349853515666"
       ]
      }
     ],
     "prompt_number": 31
    },
    {
     "cell_type": "code",
     "collapsed": false,
     "input": [
      "em.likelihood(xopt1[0])"
     ],
     "language": "python",
     "metadata": {},
     "outputs": [
      {
       "output_type": "pyout",
       "prompt_number": 32,
       "text": [
        "195.08931010203042"
       ]
      }
     ],
     "prompt_number": 32
    },
    {
     "cell_type": "markdown",
     "metadata": {},
     "source": [
      "So we do better regarding minimizing -loglik using scipy optimize than our bisection?\n",
      "Need to check this."
     ]
    },
    {
     "cell_type": "code",
     "collapsed": false,
     "input": [],
     "language": "python",
     "metadata": {},
     "outputs": [],
     "prompt_number": 32
    }
   ],
   "metadata": {}
  }
 ]
}