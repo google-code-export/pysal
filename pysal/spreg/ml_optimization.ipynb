{
 "metadata": {
  "name": "ml_optimization"
 },
 "nbformat": 3,
 "nbformat_minor": 0,
 "worksheets": [
  {
   "cells": [
    {
     "cell_type": "markdown",
     "metadata": {},
     "source": [
      "# Using scipy optimizers to implement ml estimation of spatial process models\n",
      "\n",
      "**Author: Serge Rey sjsrey@gmail.com**\n",
      "\n",
      "**Last Revision: 2012-11-30**\n"
     ]
    },
    {
     "cell_type": "markdown",
     "metadata": {},
     "source": [
      "Starting with simple binomial to explore options"
     ]
    },
    {
     "cell_type": "code",
     "collapsed": false,
     "input": [
      "import numpy as np\n",
      "from scipy import optimize"
     ],
     "language": "python",
     "metadata": {},
     "outputs": [],
     "prompt_number": 71
    },
    {
     "cell_type": "code",
     "collapsed": false,
     "input": [
      "def like_binomial(p,x,n):\n",
      "    return p**x * (1-p)**(n-x)"
     ],
     "language": "python",
     "metadata": {},
     "outputs": [],
     "prompt_number": 72
    },
    {
     "cell_type": "code",
     "collapsed": false,
     "input": [
      "like_binomial(.5,10,2)"
     ],
     "language": "python",
     "metadata": {},
     "outputs": [
      {
       "output_type": "pyout",
       "prompt_number": 73,
       "text": [
        "0.25"
       ]
      }
     ],
     "prompt_number": 73
    },
    {
     "cell_type": "code",
     "collapsed": false,
     "input": [
      "ps = np.arange(0.0,1.0,.05)"
     ],
     "language": "python",
     "metadata": {},
     "outputs": [],
     "prompt_number": 74
    },
    {
     "cell_type": "code",
     "collapsed": false,
     "input": [
      "ps"
     ],
     "language": "python",
     "metadata": {},
     "outputs": [
      {
       "output_type": "pyout",
       "prompt_number": 75,
       "text": [
        "array([ 0.  ,  0.05,  0.1 ,  0.15,  0.2 ,  0.25,  0.3 ,  0.35,  0.4 ,\n",
        "        0.45,  0.5 ,  0.55,  0.6 ,  0.65,  0.7 ,  0.75,  0.8 ,  0.85,\n",
        "        0.9 ,  0.95])"
       ]
      }
     ],
     "prompt_number": 75
    },
    {
     "cell_type": "code",
     "collapsed": false,
     "input": [
      "lp = [ like_binomial(p, 2, 10) for p in ps ]"
     ],
     "language": "python",
     "metadata": {},
     "outputs": [],
     "prompt_number": 76
    },
    {
     "cell_type": "code",
     "collapsed": false,
     "input": [],
     "language": "python",
     "metadata": {},
     "outputs": [],
     "prompt_number": 76
    },
    {
     "cell_type": "code",
     "collapsed": false,
     "input": [
      "plot(ps,lp)"
     ],
     "language": "python",
     "metadata": {},
     "outputs": [
      {
       "output_type": "pyout",
       "prompt_number": 77,
       "text": [
        "[<matplotlib.lines.Line2D at 0xb3fb910>]"
       ]
      },
      {
       "output_type": "display_data",
       "png": "[encoded data removed]"
      }
     ],
     "prompt_number": 77
    },
    {
     "cell_type": "markdown",
     "metadata": {},
     "source": [
      "Set up negative of the likelihood for optimize.fmin"
     ]
    },
    {
     "cell_type": "code",
     "collapsed": false,
     "input": [
      "def lik1(p):\n",
      "    return -1 * p**2 * (1-p)**(10-2)"
     ],
     "language": "python",
     "metadata": {},
     "outputs": [],
     "prompt_number": 78
    },
    {
     "cell_type": "code",
     "collapsed": false,
     "input": [
      "xopt = optimize.fmin(lik1, 0)"
     ],
     "language": "python",
     "metadata": {},
     "outputs": [
      {
       "output_type": "stream",
       "stream": "stdout",
       "text": [
        "Optimization terminated successfully.\n",
        "         Current function value: -0.006711\n",
        "         Iterations: 20\n",
        "         Function evaluations: 40\n"
       ]
      }
     ],
     "prompt_number": 79
    },
    {
     "cell_type": "code",
     "collapsed": false,
     "input": [
      "xopt"
     ],
     "language": "python",
     "metadata": {},
     "outputs": [
      {
       "output_type": "pyout",
       "prompt_number": 80,
       "text": [
        "array([ 0.2])"
       ]
      }
     ],
     "prompt_number": 80
    },
    {
     "cell_type": "heading",
     "level": 1,
     "metadata": {},
     "source": [
      "Maximum Likelihood Estimation of the Error Model"
     ]
    },
    {
     "cell_type": "markdown",
     "metadata": {},
     "source": [
      "*Specification*\n",
      "\n",
      "$$y = X\\beta + \\epsilon$$\n",
      "$$\\epsilon = \\lambda W \\epsilon + \\mu$$\n",
      "$$\\mu^{\\sim}N(0,\\sigma^2 I)$$"
     ]
    },
    {
     "cell_type": "markdown",
     "metadata": {},
     "source": [
      "*Log Likelihood Function*\n",
      "\n",
      "$$L = \\ln |I - \\lambda W| - \\frac{n}{2} \\ln(2\\pi) - \\frac{n}{2} \\ln(\\sigma^2) - (y-\\lambda Wy - X\\beta +\\lambda WX \\beta)'(y-\\lambda Wy - X\\beta+\\lambda WX \\beta) / 2\\sigma^{2}$$"
     ]
    },
    {
     "cell_type": "markdown",
     "metadata": {},
     "source": [
      "\n",
      "Estimates for $\\beta$ and $\\sigma^2$ are:\n",
      "$$\\hat{\\beta} = [ (X -\\lambda WX)'(X -\\lambda WX) ]^{-1} (X - \\lambda WX)'(y- \\lambda Wy) $$ \n",
      "$$\\hat{\\sigma^2} = (y-\\lambda Wy - X\\beta +\\lambda WX \\beta)' (y-\\lambda Wy - X\\beta +\\lambda WX \\beta)/n$$\n",
      "\n",
      "substituting these into the log likelihood gives the concentrated log likelihood function which will be a scalar function we can optimize:\n",
      "$$L_c = -\\frac{n}{2} \\ln \\left(\\frac{e'e}{n} \\right) + ln|I-\\lambda W|$$\n",
      "with\n",
      "$$e'e = (y- \\lambda Wy)'(y- \\lambda Wy) - (y - \\lambda Wy)'(X- \\lambda WX)[(X- \\lambda WX)' (X- \\lambda WX)]^{-1} (X - \\lambda WX)'(y- \\lambda Wy)$$"
     ]
    },
    {
     "cell_type": "code",
     "collapsed": false,
     "input": [
      "class Error_Model:\n",
      "    def __init__(self, w, y, X):\n",
      "        self.y = y\n",
      "        self.X = X\n",
      "        self.w = w\n",
      "        self.W = w.full()[0]\n",
      "        self.n = len(y)\n",
      "        self.yl = ps.lag_spatial(w,y)\n",
      "        self.Xl = ps.lag_spatial(w,X)\n",
      "        \n",
      "        \n",
      "        \n",
      "    def likelihood(self, lam):\n",
      "        # concentrated likelihood\n",
      "        ys = y - lam * self.yl\n",
      "        XS = self.X - lam * self.Xl\n",
      "        iXSXS = np.linalg.inv(np.dot(XS.T, XS))\n",
      "        b = np.dot(iXSXS, np.dot(XS.T, ys))\n",
      "        es = ys - np.dot(self.X, b) + np.dot(XS, b)\n",
      "        es2 = (es**2).sum()\n",
      "        sig2 = es2 / self.n\n",
      "        ln2pi = np.log(2.0*np.pi)\n",
      "        ldet = np.log(np.linalg.det(np.eye(w.n) - lam * self.W))\n",
      "        lik = ldet - self.n/2. * ln2pi - self.n/2. * np.log(sig2) - es2 / (2 *sig2)\n",
      "        lik *= -1.0 # since this will used with a minimizer\n",
      "        return lik\n",
      "    \n"
     ],
     "language": "python",
     "metadata": {},
     "outputs": [],
     "prompt_number": 81
    },
    {
     "cell_type": "heading",
     "level": 2,
     "metadata": {},
     "source": [
      "Now on spatial data from synthetic error model"
     ]
    },
    {
     "cell_type": "code",
     "collapsed": false,
     "input": [
      "\n",
      "import pysal as ps\n",
      "nsqrt = 5\n",
      "n = nsqrt*nsqrt\n",
      "w = ps.lat2W(nsqrt,nsqrt)\n",
      "w.transform = 'r'\n"
     ],
     "language": "python",
     "metadata": {},
     "outputs": [],
     "prompt_number": 82
    },
    {
     "cell_type": "code",
     "collapsed": false,
     "input": [
      "lam = 0.7\n",
      "b = np.array([1.0, 3.0])\n",
      "b.shape = (2,1)\n",
      "X = np.arange(0,n)\n",
      "X.shape = (n,1)\n",
      "X = np.hstack((np.ones((n,1)), X))\n",
      "# error model\n",
      "A = np.eye(n) - lam * w.full()[0]\n",
      "AI = np.linalg.inv(A)\n",
      "e = np.random.random((n,1))\n",
      "Xb = np.dot(X,b)\n",
      "y = np.dot(AI, e) + Xb"
     ],
     "language": "python",
     "metadata": {},
     "outputs": [],
     "prompt_number": 83
    },
    {
     "cell_type": "code",
     "collapsed": false,
     "input": [
      "A[0:4,0:4]"
     ],
     "language": "python",
     "metadata": {},
     "outputs": [
      {
       "output_type": "pyout",
       "prompt_number": 84,
       "text": [
        "array([[ 1.        , -0.35      ,  0.        ,  0.        ],\n",
        "       [-0.23333333,  1.        , -0.23333333,  0.        ],\n",
        "       [ 0.        , -0.23333333,  1.        , -0.23333333],\n",
        "       [ 0.        ,  0.        , -0.23333333,  1.        ]])"
       ]
      }
     ],
     "prompt_number": 84
    },
    {
     "cell_type": "code",
     "collapsed": false,
     "input": [
      "w.full()[0][0:4,0:4]"
     ],
     "language": "python",
     "metadata": {},
     "outputs": [
      {
       "output_type": "pyout",
       "prompt_number": 50,
       "text": [
        "array([[ 0.        ,  0.5       ,  0.        ,  0.        ],\n",
        "       [ 0.33333333,  0.        ,  0.33333333,  0.        ],\n",
        "       [ 0.        ,  0.33333333,  0.        ,  0.33333333],\n",
        "       [ 0.        ,  0.        ,  0.33333333,  0.        ]])"
       ]
      }
     ],
     "prompt_number": 50
    },
    {
     "cell_type": "code",
     "collapsed": false,
     "input": [
      "em = Error_Model(w, y, X)"
     ],
     "language": "python",
     "metadata": {},
     "outputs": [],
     "prompt_number": 51
    },
    {
     "cell_type": "code",
     "collapsed": false,
     "input": [
      "xopt = optimize.fmin(em.likelihood, 0)"
     ],
     "language": "python",
     "metadata": {},
     "outputs": [
      {
       "output_type": "stream",
       "stream": "stdout",
       "text": [
        "Optimization terminated successfully.\n",
        "         Current function value: 69.564675\n",
        "         Iterations: 23\n",
        "         Function evaluations: 46\n"
       ]
      }
     ],
     "prompt_number": 52
    },
    {
     "cell_type": "code",
     "collapsed": false,
     "input": [
      "xopt"
     ],
     "language": "python",
     "metadata": {},
     "outputs": [
      {
       "output_type": "pyout",
       "prompt_number": 53,
       "text": [
        "array([ 0.51575])"
       ]
      }
     ],
     "prompt_number": 53
    },
    {
     "cell_type": "code",
     "collapsed": false,
     "input": [
      "xopt1 = optimize.fmin(em.likelihood, 0, xtol=0.0000001)\n",
      "xopt1"
     ],
     "language": "python",
     "metadata": {},
     "outputs": [
      {
       "output_type": "stream",
       "stream": "stdout",
       "text": [
        "Optimization terminated successfully.\n",
        "         Current function value: 69.564674\n",
        "         Iterations: 33\n",
        "         Function evaluations: 66\n"
       ]
      },
      {
       "output_type": "pyout",
       "prompt_number": 54,
       "text": [
        "array([ 0.51575952])"
       ]
      }
     ],
     "prompt_number": 54
    },
    {
     "cell_type": "code",
     "collapsed": false,
     "input": [
      "lams = np.arange(-0.9, 1.0, 0.1)"
     ],
     "language": "python",
     "metadata": {},
     "outputs": [],
     "prompt_number": 55
    },
    {
     "cell_type": "code",
     "collapsed": false,
     "input": [
      "l = [ em.likelihood(lam) for lam in lams ]"
     ],
     "language": "python",
     "metadata": {},
     "outputs": [],
     "prompt_number": 56
    },
    {
     "cell_type": "code",
     "collapsed": false,
     "input": [
      "l"
     ],
     "language": "python",
     "metadata": {},
     "outputs": [
      {
       "output_type": "pyout",
       "prompt_number": 57,
       "text": [
        "[160.34207784324059,\n",
        " 156.97163943121504,\n",
        " 153.98237682367775,\n",
        " 151.10179629219641,\n",
        " 148.20531627231512,\n",
        " 145.20507853391115,\n",
        " 142.01901139767261,\n",
        " 138.55392085396608,\n",
        " 134.68847239951748,\n",
        " 130.24715787473235,\n",
        " 124.95011653442435,\n",
        " 118.29879460503622,\n",
        " 109.26245657839,\n",
        " 95.18826403581204,\n",
        " 71.08843114885579,\n",
        " 89.356374269284302,\n",
        " 107.40275384558046,\n",
        " 118.87089389481318,\n",
        " 127.78489934783855]"
       ]
      }
     ],
     "prompt_number": 57
    },
    {
     "cell_type": "code",
     "collapsed": false,
     "input": [
      "plot(lams,l)\n",
      "ylabel(\"-LogLike\")\n",
      "xlabel(\"lambda\")\n"
     ],
     "language": "python",
     "metadata": {},
     "outputs": [
      {
       "output_type": "pyout",
       "prompt_number": 58,
       "text": [
        "<matplotlib.text.Text at 0xb30fb70>"
       ]
      },
      {
       "output_type": "display_data",
       "png": "[encoded data removed]"
      }
     ],
     "prompt_number": 58
    },
    {
     "cell_type": "heading",
     "level": 2,
     "metadata": {},
     "source": [
      "Columbus Example for Error Model"
     ]
    },
    {
     "cell_type": "code",
     "collapsed": false,
     "input": [
      "db =  ps.open(ps.examples.get_path('columbus.dbf'),'r')\n",
      "y = np.array(db.by_col(\"CRIME\"))\n",
      "y.shape = (len(y),1)\n",
      "X = []\n",
      "X.append(db.by_col(\"INC\"))\n",
      "X.append(db.by_col(\"HOVAL\"))\n",
      "X = np.array(X).T\n",
      "#w = ps.open(ps.examples.get_path(\"columbus.gal\")).read()\n",
      "w = ps.rook_from_shapefile(ps.examples.get_path(\"columbus.shp\"))\n",
      "w.transform = 'r'\n",
      "X = np.hstack((np.ones((w.n,1)),X))\n",
      "em = Error_Model(w, y, X)\n"
     ],
     "language": "python",
     "metadata": {},
     "outputs": [],
     "prompt_number": 59
    },
    {
     "cell_type": "code",
     "collapsed": false,
     "input": [],
     "language": "python",
     "metadata": {},
     "outputs": [],
     "prompt_number": 59
    },
    {
     "cell_type": "code",
     "collapsed": false,
     "input": [
      "xopt = optimize.fmin(em.likelihood, 0)\n",
      "xopt"
     ],
     "language": "python",
     "metadata": {},
     "outputs": [
      {
       "output_type": "stream",
       "stream": "stdout",
       "text": [
        "Optimization terminated successfully.\n",
        "         Current function value: 195.089311\n",
        "         Iterations: 23\n",
        "         Function evaluations: 46\n"
       ]
      },
      {
       "output_type": "pyout",
       "prompt_number": 60,
       "text": [
        "array([ 0.5075])"
       ]
      }
     ],
     "prompt_number": 60
    },
    {
     "cell_type": "code",
     "collapsed": false,
     "input": [
      "xopt1 = optimize.fmin(em.likelihood, 0, xtol=0.0000001)\n",
      "xopt1"
     ],
     "language": "python",
     "metadata": {},
     "outputs": [
      {
       "output_type": "stream",
       "stream": "stdout",
       "text": [
        "Optimization terminated successfully.\n",
        "         Current function value: 195.089310\n",
        "         Iterations: 33\n",
        "         Function evaluations: 66\n"
       ]
      },
      {
       "output_type": "pyout",
       "prompt_number": 61,
       "text": [
        "array([ 0.5075235])"
       ]
      }
     ],
     "prompt_number": 61
    },
    {
     "cell_type": "code",
     "collapsed": false,
     "input": [
      "lams = np.arange(-0.9, 1.0, 0.05)\n",
      "l = [ em.likelihood(lam) for lam in lams ]\n",
      "plot(lams,l)\n",
      "ylabel(\"-LogLike\")\n",
      "xlabel(\"lambda\")\n",
      "\n"
     ],
     "language": "python",
     "metadata": {},
     "outputs": [
      {
       "output_type": "pyout",
       "prompt_number": 62,
       "text": [
        "<matplotlib.text.Text at 0xb363730>"
       ]
      },
      {
       "output_type": "display_data",
       "png": "[encoded data removed]"
      }
     ],
     "prompt_number": 62
    },
    {
     "cell_type": "code",
     "collapsed": false,
     "input": [
      "import ml # use pysal.spreg.ml\n",
      "bmle = ml.ML_Error(y,w,X)\n",
      "lam = bmle[-1]"
     ],
     "language": "python",
     "metadata": {},
     "outputs": [],
     "prompt_number": 63
    },
    {
     "cell_type": "code",
     "collapsed": false,
     "input": [
      "lam"
     ],
     "language": "python",
     "metadata": {},
     "outputs": [
      {
       "output_type": "pyout",
       "prompt_number": 64,
       "text": [
        "0.5484739971935747"
       ]
      }
     ],
     "prompt_number": 64
    },
    {
     "cell_type": "code",
     "collapsed": false,
     "input": [
      "em.likelihood(lam)"
     ],
     "language": "python",
     "metadata": {},
     "outputs": [
      {
       "output_type": "pyout",
       "prompt_number": 65,
       "text": [
        "196.42896251662779"
       ]
      }
     ],
     "prompt_number": 65
    },
    {
     "cell_type": "code",
     "collapsed": false,
     "input": [
      "xopt1[0]"
     ],
     "language": "python",
     "metadata": {},
     "outputs": [
      {
       "output_type": "pyout",
       "prompt_number": 66,
       "text": [
        "0.50752349853515666"
       ]
      }
     ],
     "prompt_number": 66
    },
    {
     "cell_type": "code",
     "collapsed": false,
     "input": [
      "em.likelihood(xopt1[0])"
     ],
     "language": "python",
     "metadata": {},
     "outputs": [
      {
       "output_type": "pyout",
       "prompt_number": 67,
       "text": [
        "195.08931010203042"
       ]
      }
     ],
     "prompt_number": 67
    },
    {
     "cell_type": "markdown",
     "metadata": {},
     "source": [
      "So we do better regarding minimizing -loglik using scipy optimize than our bisection?\n",
      "Need to check this."
     ]
    },
    {
     "cell_type": "heading",
     "level": 2,
     "metadata": {},
     "source": [
      "Alternative method"
     ]
    },
    {
     "cell_type": "code",
     "collapsed": false,
     "input": [
      "xopt1 = optimize.brent(em.likelihood)"
     ],
     "language": "python",
     "metadata": {},
     "outputs": [],
     "prompt_number": 68
    },
    {
     "cell_type": "code",
     "collapsed": false,
     "input": [
      "xopt1"
     ],
     "language": "python",
     "metadata": {},
     "outputs": [
      {
       "output_type": "pyout",
       "prompt_number": 69,
       "text": [
        "0.50752348145253423"
       ]
      }
     ],
     "prompt_number": 69
    },
    {
     "cell_type": "code",
     "collapsed": false,
     "input": [
      "cg = optimize.fmin_cg(em.likelihood,[0])"
     ],
     "language": "python",
     "metadata": {},
     "outputs": [
      {
       "output_type": "stream",
       "stream": "stdout",
       "text": [
        "Optimization terminated successfully.\n",
        "         Current function value: nan\n",
        "         Iterations: 1\n",
        "         Function evaluations: 6\n",
        "         Gradient evaluations: 2\n"
       ]
      }
     ],
     "prompt_number": 70
    },
    {
     "cell_type": "code",
     "collapsed": false,
     "input": [],
     "language": "python",
     "metadata": {},
     "outputs": [],
     "prompt_number": 70
    },
    {
     "cell_type": "code",
     "collapsed": false,
     "input": [],
     "language": "python",
     "metadata": {},
     "outputs": [],
     "prompt_number": 70
    }
   ],
   "metadata": {}
  }
 ]
}